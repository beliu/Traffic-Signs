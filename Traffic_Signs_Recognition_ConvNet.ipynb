{
 "cells": [
  {
   "cell_type": "markdown",
   "metadata": {},
   "source": [
    "# Self-Driving Car Engineer Nanodegree\n",
    "\n",
    "## Deep Learning\n",
    "\n",
    "## Project: Build a Traffic Sign Recognition Classifier\n",
    "\n",
    "In this notebook, a template is provided for you to implement your functionality in stages which is required to successfully complete this project. If additional code is required that cannot be included in the notebook, be sure that the Python code is successfully imported and included in your submission, if necessary. Sections that begin with **'Implementation'** in the header indicate where you should begin your implementation for your project. Note that some sections of implementation are optional, and will be marked with **'Optional'** in the header.\n",
    "\n",
    "In addition to implementing code, there will be questions that you must answer which relate to the project and your implementation. Each section where you will answer a question is preceded by a **'Question'** header. Carefully read each question and provide thorough answers in the following text boxes that begin with **'Answer:'**. Your project submission will be evaluated based on your answers to each of the questions and the implementation you provide.\n",
    "\n",
    ">**Note:** Code and Markdown cells can be executed using the **Shift + Enter** keyboard shortcut. In addition, Markdown cells can be edited by typically double-clicking the cell to enter edit mode."
   ]
  },
  {
   "cell_type": "code",
   "execution_count": 3,
   "metadata": {
    "collapsed": false
   },
   "outputs": [],
   "source": [
    "### Load the Data from Pickle File without having to run things from the beginning\n",
    "import tensorflow as tf\n",
    "from tensorflow.python.ops.variables import Variable\n",
    "import cv2\n",
    "import numpy as np\n",
    "import scipy.ndimage\n",
    "from sklearn.model_selection import train_test_split\n",
    "from sklearn.preprocessing import LabelBinarizer\n",
    "from sklearn.metrics import confusion_matrix\n",
    "import pickle\n",
    "import os\n",
    "import math\n",
    "import random\n",
    "from tqdm import tqdm\n",
    "import matplotlib.pyplot as plt\n",
    "import matplotlib.image as mpimg\n",
    "from mpl_toolkits.mplot3d import Axes3D\n",
    "from IPython.display import Image\n",
    "%matplotlib inline\n",
    "\n",
    "# Reload the data\n",
    "def load_data(filename):\n",
    "    pickle_file = filename + '.pickle'\n",
    "    with open(pickle_file, 'rb') as f:\n",
    "        pickle_data = pickle.load(f)\n",
    "        train_features = pickle_data['train_dataset']\n",
    "        train_labels = pickle_data['train_labels']\n",
    "        valid_features = pickle_data['valid_dataset']\n",
    "        valid_labels = pickle_data['valid_labels']\n",
    "        test_features = pickle_data['test_dataset']\n",
    "        test_labels = pickle_data['test_labels']\n",
    "        train_dict_features = pickle_data['train_features_accuracy']\n",
    "        train_dict_labels = pickle_data['train_labels_accuracy']\n",
    "        del pickle_data  # Free up memory\n",
    "    print('Data and modules loaded')\n",
    "    return train_features, train_labels, valid_features, valid_labels, test_features, test_labels, train_dict_features, train_dict_labels"
   ]
  },
  {
   "cell_type": "code",
   "execution_count": 4,
   "metadata": {
    "collapsed": true
   },
   "outputs": [],
   "source": [
    "def print_images(data, indices=[]):\n",
    "    if len(data.shape) <= 3:\n",
    "        fig = plt.figure()\n",
    "        ax = fig.add_subplot(111)\n",
    "        if (data.shape[-1] == 1):\n",
    "            data = data[:, :, 0]\n",
    "            ax.imshow(data, cmap='gray')\n",
    "        else:\n",
    "            ax.imshow(data)\n",
    "        if len(indices) > 0:\n",
    "            print(indices[0])\n",
    "        plt.show()\n",
    "    elif len(data.shape) >= 4:\n",
    "        for d in range(len(data)):\n",
    "            fig = plt.figure()\n",
    "            ax = fig.add_subplot(111)\n",
    "            if (data[d].shape[-1] == 1):\n",
    "                ax.imshow(data[d, :, :, 0], cmap='gray')\n",
    "            else:\n",
    "                ax.imshow(data[d])\n",
    "            if len(indices) > 0:\n",
    "                print(indices[d])\n",
    "            plt.show()\n",
    "            \n",
    "def print_class(features, labels, class_no, image_idx):\n",
    "    if len(labels.shape) > 1:\n",
    "        if len(labels) == 1:\n",
    "            indices_by_class = np.where(np.argmax(labels) == class_no)\n",
    "        else:\n",
    "            indices_by_class = np.where(np.argmax(labels, axis=1) == class_no)[0]\n",
    "    else:\n",
    "        if len(labels) == 1:\n",
    "            indices_by_class = np.where(labels == class_no)\n",
    "        else:\n",
    "            indices_by_class = np.where(labels == class_no)[0]\n",
    "            \n",
    "    features_by_class = features[indices_by_class]\n",
    "    images = features_by_class[image_idx]\n",
    "    print_images(images, image_idx)\n",
    "    "
   ]
  },
  {
   "cell_type": "code",
   "execution_count": 5,
   "metadata": {
    "collapsed": false
   },
   "outputs": [],
   "source": [
    "def conv_layer(input_layer, filter_size, num_input_channels, num_filters, stride=1, padding='SAME',\n",
    "               relu=False, pooling=False, pool_size=2, drop=False, keep_prob=0.5, name=None):\n",
    "    \n",
    "    shape = [filter_size, filter_size, num_input_channels, num_filters]\n",
    "\n",
    "    # Create filter weights with the given shape.\n",
    "    weights = tf.Variable(tf.truncated_normal(shape, stddev=0.05))\n",
    "    # print(weights.get_shape())\n",
    "\n",
    "    # Create new biases, one for each filter.\n",
    "    biases = tf.Variable(tf.zeros(num_filters))\n",
    "\n",
    "    # Create the convolution operation\n",
    "    conv_layer = tf.nn.conv2d(input=input_layer,\n",
    "                             filter=weights,\n",
    "                             strides=[1, stride, stride, 1],\n",
    "                             padding=padding)\n",
    "\n",
    "    # Add the biases to the convolution output\n",
    "    conv_layer = tf.nn.bias_add(conv_layer, biases)\n",
    "    \n",
    "    if relu:\n",
    "        # Create the ReLu activation function\n",
    "        conv_layer = tf.nn.relu(conv_layer)\n",
    "        \n",
    "    if drop:\n",
    "        # Use Dropout to prevent overfitting\n",
    "        conv_layer = tf.nn.dropout(conv_layer, keep_prob)\n",
    "        \n",
    "    if pooling == 'max':\n",
    "        # Create max-pooling\n",
    "        conv_layer = tf.nn.max_pool(value=conv_layer,\n",
    "                               ksize=[1, pool_size, pool_size, 1],\n",
    "                               strides=[1, pool_size, pool_size, 1],\n",
    "                               padding=padding)\n",
    "    if pooling == 'average':\n",
    "        # Create average-pooling\n",
    "        conv_layer = tf.nn.avg_pool(value=conv_layer,\n",
    "                               ksize=[1, pool_size, pool_size, 1],\n",
    "                               strides=[1, pool_size, pool_size, 1],\n",
    "                               padding=padding)\n",
    "\n",
    "    print(conv_layer.get_shape())\n",
    "    \n",
    "    return conv_layer\n",
    "\n",
    "def flatten_layer(input_layer):\n",
    "    layer_shape = input_layer.get_shape()\n",
    "\n",
    "    # The number of features is: img_height * img_width * num_channels\n",
    "    num_features = layer_shape[1:4].num_elements()\n",
    "\n",
    "    # Reshape the layer to [num_images, num_features]\n",
    "    flat_layer = tf.reshape(input_layer, [-1, num_features])\n",
    "    print(flat_layer.get_shape())\n",
    "    \n",
    "    return (flat_layer)\n",
    "    \n",
    "def fc_layer(input_layer, num_features, fc_size, relu=False, drop=False, keep_prob=0.5):\n",
    "    ## Create the 1st Fully Connected layer\n",
    "    # Create new weights and biases.\n",
    "    shape=[num_features, fc_size]\n",
    "\n",
    "    weights = tf.Variable(tf.truncated_normal(shape, stddev=0.05))\n",
    "    biases = tf.Variable(tf.zeros(fc_size))\n",
    "\n",
    "    # Calculate the layer as the matrix multiplication of\n",
    "    # the input and weights, and then add the bias-values.\n",
    "    fc_layer = tf.nn.bias_add(tf.matmul(input_layer, weights), biases)\n",
    "    \n",
    "    if relu:\n",
    "        fc_layer = tf.nn.relu(fc_layer)\n",
    "    \n",
    "    if drop:\n",
    "        fc_layer = tf.nn.dropout(fc_layer, keep_prob)\n",
    "    print(fc_layer.get_shape())\n",
    "    \n",
    "    return fc_layer\n"
   ]
  },
  {
   "cell_type": "code",
   "execution_count": 6,
   "metadata": {
    "collapsed": false
   },
   "outputs": [
    {
     "name": "stdout",
     "output_type": "stream",
     "text": [
      "Data and modules loaded\n",
      "43\n",
      "(32, 32, 3)\n",
      "(116337, 32, 32, 3) (116337, 43)\n",
      "(1290, 32, 32, 3) (1290, 43)\n",
      "(12630, 32, 32, 3) (12630, 43)\n",
      "(1290, 32, 32, 3) (1290, 43)\n"
     ]
    }
   ],
   "source": [
    "# Load the data from pickle file\n",
    "filename = 'traffic-signs-rgb'\n",
    "# filename = 'traffic-signs-grayscale'\n",
    "# filename = 'traffic-signs-yuv'\n",
    "train_features, train_labels, valid_features, valid_labels, test_features, test_labels, train_dict_features, train_dict_labels = load_data(filename)\n",
    "\n",
    "image_shape = train_features[0].shape\n",
    "n_classes = train_labels.shape[1]\n",
    "\n",
    "print(n_classes)\n",
    "print(image_shape)\n",
    "print(train_features.shape, train_labels.shape)\n",
    "print(valid_features.shape, valid_labels.shape)\n",
    "print(test_features.shape, test_labels.shape)\n",
    "print(train_dict_features.shape, train_dict_labels.shape)"
   ]
  },
  {
   "cell_type": "code",
   "execution_count": 10,
   "metadata": {
    "collapsed": false
   },
   "outputs": [
    {
     "name": "stdout",
     "output_type": "stream",
     "text": [
      "(?, 28, 28, 6)\n",
      "(?, 24, 24, 16)\n",
      "(?, 10, 10, 32)\n",
      "(?, 3200)\n",
      "(?, 120)\n",
      "(?, 84)\n",
      "(?, 43)\n"
     ]
    }
   ],
   "source": [
    "### Create a ConvNet\n",
    "from tensorflow.contrib.layers import flatten\n",
    "\n",
    "# Create the input data placeholders\n",
    "features = tf.placeholder(tf.float32, shape=[None, *train_features.shape[1:]])\n",
    "labels = tf.placeholder(tf.float32, shape=[None, train_labels.shape[-1]])\n",
    "\n",
    "filter_size = 5\n",
    "output_size = 6\n",
    "\n",
    "# Conv Layer 1\n",
    "conv_layer_1 = conv_layer(features, filter_size, train_features.shape[-1], output_size, \n",
    "                          padding='VALID', relu=True)\n",
    "\n",
    "# Conv Layer 2\n",
    "conv_layer_2 = conv_layer(conv_layer_1, filter_size, output_size, 16, \n",
    "                          padding='VALID', relu=True)\n",
    "\n",
    "# Conv Layer 3\n",
    "conv_layer_3 = conv_layer(conv_layer_2, filter_size, 16, 32, \n",
    "                          padding='VALID', pooling='max', relu=True, drop=True)\n",
    "\n",
    "# Flatten layer\n",
    "flat_layer = flatten(conv_layer_3)\n",
    "print(flat_layer.get_shape())\n",
    "\n",
    "# Fully Connected Layer 1\n",
    "num_features = int(flat_layer.get_shape()[-1])\n",
    "fc1_size = 120\n",
    "fc_layer_1 = fc_layer(flat_layer, num_features, fc1_size, relu=True)\n",
    "\n",
    "# Fully Connected Layer 2\n",
    "fc2_size = 84\n",
    "fc_layer_2 = fc_layer(fc_layer_1, fc1_size, fc2_size, relu=True)\n",
    "\n",
    "# Output Layer\n",
    "output_layer = fc_layer(fc_layer_2, fc2_size, train_labels.shape[-1])"
   ]
  },
  {
   "cell_type": "code",
   "execution_count": null,
   "metadata": {
    "collapsed": false
   },
   "outputs": [],
   "source": [
    "## Creating the Softmax predictions, loss, and optimizer functions\n",
    "prediction = tf.nn.softmax(output_layer)\n",
    "y_pred_cls = tf.argmax(prediction, 1)\n",
    "loss = tf.reduce_mean(tf.nn.softmax_cross_entropy_with_logits(output_layer, labels))\n",
    "\n",
    "learning_rate = 0.001\n",
    "\n",
    "# Gradient Descent\n",
    "# optimizer = tf.train.GradientDescentOptimizer(learning_rate).minimize(loss)\n",
    "optimizer = tf.train.AdamOptimizer(learning_rate).minimize(loss)\n",
    "\n",
    "# Test model\n",
    "correct_prediction = tf.equal(y_pred_cls, tf.argmax(labels, 1))\n",
    "\n",
    "# Calculate accuracy\n",
    "accuracy_operation = tf.reduce_mean(tf.cast(correct_prediction, tf.float32))\n",
    "\n",
    "def evaluate(X_data, y_data, batch_size):\n",
    "    num_examples = len(X_data)\n",
    "    total_accuracy = 0\n",
    "    sess = tf.get_default_session()\n",
    "    for offset in range(0, num_examples, batch_size):\n",
    "        batch_x, batch_y = X_data[offset:offset+batch_size], y_data[offset:offset+batch_size]\n",
    "        accuracy = sess.run(accuracy_operation, feed_dict={features: batch_x, labels: batch_y})\n",
    "        total_accuracy += (accuracy * len(batch_x))\n",
    "    return total_accuracy / num_examples\n",
    "\n",
    "print('Optimization and Evaluation Functions Created')"
   ]
  },
  {
   "cell_type": "code",
   "execution_count": 12,
   "metadata": {
    "collapsed": false,
    "scrolled": false
   },
   "outputs": [],
   "source": [
    "# Import shuffle from sklearn to shuffle training data after every epoch\n",
    "from sklearn.utils import shuffle\n",
    "\n",
    "# Class used to save and/or restore Tensor Variables\n",
    "saver = tf.train.Saver()\n",
    "init = tf.initialize_all_variables()\n",
    "\n",
    "# The file path to save the data\n",
    "save_file = 'model_rgb.ckpt'\n",
    "\n",
    "valid_feed_dict = {features: valid_features, labels: valid_labels}\n",
    "test_feed_dict = {features: test_features, labels: test_labels}\n",
    "train_feed_dict = {features: train_dict_features, labels: train_dict_labels}\n",
    "\n",
    "def train_model(train_features, train_labels, run_count, epochs, batch_size, save_file):\n",
    "    # Launch the graph\n",
    "    with tf.Session() as sess:\n",
    "        if run_count == 0:\n",
    "            print('Initiating the Model')\n",
    "            sess.run(init)\n",
    "        else:\n",
    "            print('Restoring a Saved Model')\n",
    "            saver.restore(sess, save_file)\n",
    "        \n",
    "        batch_count = int(math.ceil(len(train_features)/batch_size))\n",
    "        \n",
    "        # Training cycle\n",
    "        for epoch_i in range(epochs):\n",
    "            # Shuffle the training data\n",
    "            train_features, train_labels = shuffle(train_features, train_labels)\n",
    "            # Progress bar\n",
    "            batches_pbar = tqdm(range(batch_count), desc='Epoch {:>2}/{}'.format(epoch_i+1, epochs), unit='batches')\n",
    "\n",
    "            # The training cycle\n",
    "            for batch_i in batches_pbar:\n",
    "                # Get a batch of training features and labels\n",
    "                batch_start = batch_i*batch_size\n",
    "                if batch_start >= len(train_features):\n",
    "                    break\n",
    "                batch_end = min(batch_start + batch_size, len(train_features))\n",
    "                batch_features = train_features[batch_start:batch_end]\n",
    "                batch_labels = train_labels[batch_start:batch_end]\n",
    "\n",
    "                # Run optimizer and get loss\n",
    "                _, l = sess.run(\n",
    "                    [optimizer, loss],\n",
    "                    feed_dict={features: batch_features, labels: batch_labels})\n",
    "\n",
    "            # Check accuracy against Validation data\n",
    "            validation_accuracy = evaluate(valid_features, valid_labels, batch_size)\n",
    "            training_accuracy = evaluate(train_dict_features, train_dict_labels, batch_size)\n",
    "                  \n",
    "            # Display logs per epoch step\n",
    "            print(\"Epoch:\", '%04d' % (epoch_i+1), \"loss=\", \"{:.9f}\".format(l)) \n",
    "            print(\"Validation Accuracy=\", \"{:.9f}\".format(validation_accuracy), \n",
    "                  \"Training Accuracy=\", \"{:.9f}\".format(training_accuracy))\n",
    "\n",
    "        print(\"Optimization Finished!\") \n",
    "\n",
    "        # Save the model\n",
    "        saver.save(sess, save_file)\n",
    "        print('Model Saved to ' + save_file)\n",
    "\n",
    "        # Check accuracy against Validation data\n",
    "        validation_accuracy = sess.run(accuracy_operation, feed_dict=valid_feed_dict)\n",
    "        print('Validation accuracy at {}'.format(validation_accuracy))\n",
    "\n",
    "        # Check accuracy against Validation data\n",
    "        test_accuracy = sess.run(accuracy_operation, feed_dict=test_feed_dict)\n",
    "        print('Test accuracy at {}'.format(test_accuracy))\n",
    "\n",
    "        exam_size = 500\n",
    "        y_labels = tf.placeholder(tf.float32, shape=[None, n_classes])\n",
    "        y_true_cls = tf.argmax(y_labels, 1)\n",
    "        cls_true, cls_pred = sess.run([y_true_cls, y_pred_cls], feed_dict={features: test_features[0:exam_size], \n",
    "                                                                       y_labels: test_labels[0:exam_size]})\n",
    "        print(cls_true)\n",
    "        print(cls_pred)\n",
    "        \n",
    "        run_count += epochs\n",
    "        sess.close()\n",
    "        return run_count"
   ]
  },
  {
   "cell_type": "code",
   "execution_count": 13,
   "metadata": {
    "collapsed": false,
    "scrolled": true
   },
   "outputs": [
    {
     "name": "stdout",
     "output_type": "stream",
     "text": [
      "Initiating the Model\n"
     ]
    },
    {
     "name": "stderr",
     "output_type": "stream",
     "text": [
      "Epoch  1/10: 100%|██████████| 5817/5817 [05:24<00:00, 17.94batches/s]\n"
     ]
    },
    {
     "name": "stdout",
     "output_type": "stream",
     "text": [
      "Epoch: 0001 loss= 0.161737159\n",
      "Validation Accuracy= 0.937984487 Training Accuracy= 0.966666661\n"
     ]
    },
    {
     "name": "stderr",
     "output_type": "stream",
     "text": [
      "Epoch  2/10:  71%|███████   | 4111/5817 [03:38<01:34, 18.01batches/s]"
     ]
    },
    {
     "ename": "KeyboardInterrupt",
     "evalue": "",
     "output_type": "error",
     "traceback": [
      "\u001b[0;31m---------------------------------------------------------------------------\u001b[0m",
      "\u001b[0;31mKeyboardInterrupt\u001b[0m                         Traceback (most recent call last)",
      "\u001b[0;32m<ipython-input-13-220d74363b88>\u001b[0m in \u001b[0;36m<module>\u001b[0;34m()\u001b[0m\n\u001b[1;32m      1\u001b[0m \u001b[0mrun_count\u001b[0m \u001b[0;34m=\u001b[0m \u001b[0;36m0\u001b[0m\u001b[0;34m\u001b[0m\u001b[0m\n\u001b[0;32m----> 2\u001b[0;31m \u001b[0mrun_count\u001b[0m \u001b[0;34m=\u001b[0m \u001b[0mtrain_model\u001b[0m\u001b[0;34m(\u001b[0m\u001b[0mtrain_features\u001b[0m\u001b[0;34m,\u001b[0m \u001b[0mtrain_labels\u001b[0m\u001b[0;34m,\u001b[0m \u001b[0mrun_count\u001b[0m\u001b[0;34m,\u001b[0m \u001b[0;36m10\u001b[0m\u001b[0;34m,\u001b[0m \u001b[0;36m20\u001b[0m\u001b[0;34m,\u001b[0m \u001b[0msave_file\u001b[0m\u001b[0;34m)\u001b[0m\u001b[0;34m\u001b[0m\u001b[0m\n\u001b[0m",
      "\u001b[0;32m<ipython-input-12-298f5c139431>\u001b[0m in \u001b[0;36mtrain_model\u001b[0;34m(train_features, train_labels, run_count, epochs, batch_size, save_file)\u001b[0m\n\u001b[1;32m     45\u001b[0m                 _, l = sess.run(\n\u001b[1;32m     46\u001b[0m                     \u001b[0;34m[\u001b[0m\u001b[0moptimizer\u001b[0m\u001b[0;34m,\u001b[0m \u001b[0mloss\u001b[0m\u001b[0;34m]\u001b[0m\u001b[0;34m,\u001b[0m\u001b[0;34m\u001b[0m\u001b[0m\n\u001b[0;32m---> 47\u001b[0;31m                     feed_dict={features: batch_features, labels: batch_labels})\n\u001b[0m\u001b[1;32m     48\u001b[0m \u001b[0;34m\u001b[0m\u001b[0m\n\u001b[1;32m     49\u001b[0m             \u001b[0;31m# Check accuracy against Validation data\u001b[0m\u001b[0;34m\u001b[0m\u001b[0;34m\u001b[0m\u001b[0m\n",
      "\u001b[0;32m/Users/beili/anaconda/envs/tensorflow/lib/python3.5/site-packages/tensorflow/python/client/session.py\u001b[0m in \u001b[0;36mrun\u001b[0;34m(self, fetches, feed_dict, options, run_metadata)\u001b[0m\n\u001b[1;32m    715\u001b[0m     \u001b[0;32mtry\u001b[0m\u001b[0;34m:\u001b[0m\u001b[0;34m\u001b[0m\u001b[0m\n\u001b[1;32m    716\u001b[0m       result = self._run(None, fetches, feed_dict, options_ptr,\n\u001b[0;32m--> 717\u001b[0;31m                          run_metadata_ptr)\n\u001b[0m\u001b[1;32m    718\u001b[0m       \u001b[0;32mif\u001b[0m \u001b[0mrun_metadata\u001b[0m\u001b[0;34m:\u001b[0m\u001b[0;34m\u001b[0m\u001b[0m\n\u001b[1;32m    719\u001b[0m         \u001b[0mproto_data\u001b[0m \u001b[0;34m=\u001b[0m \u001b[0mtf_session\u001b[0m\u001b[0;34m.\u001b[0m\u001b[0mTF_GetBuffer\u001b[0m\u001b[0;34m(\u001b[0m\u001b[0mrun_metadata_ptr\u001b[0m\u001b[0;34m)\u001b[0m\u001b[0;34m\u001b[0m\u001b[0m\n",
      "\u001b[0;32m/Users/beili/anaconda/envs/tensorflow/lib/python3.5/site-packages/tensorflow/python/client/session.py\u001b[0m in \u001b[0;36m_run\u001b[0;34m(self, handle, fetches, feed_dict, options, run_metadata)\u001b[0m\n\u001b[1;32m    913\u001b[0m     \u001b[0;32mif\u001b[0m \u001b[0mfinal_fetches\u001b[0m \u001b[0;32mor\u001b[0m \u001b[0mfinal_targets\u001b[0m\u001b[0;34m:\u001b[0m\u001b[0;34m\u001b[0m\u001b[0m\n\u001b[1;32m    914\u001b[0m       results = self._do_run(handle, final_targets, final_fetches,\n\u001b[0;32m--> 915\u001b[0;31m                              feed_dict_string, options, run_metadata)\n\u001b[0m\u001b[1;32m    916\u001b[0m     \u001b[0;32melse\u001b[0m\u001b[0;34m:\u001b[0m\u001b[0;34m\u001b[0m\u001b[0m\n\u001b[1;32m    917\u001b[0m       \u001b[0mresults\u001b[0m \u001b[0;34m=\u001b[0m \u001b[0;34m[\u001b[0m\u001b[0;34m]\u001b[0m\u001b[0;34m\u001b[0m\u001b[0m\n",
      "\u001b[0;32m/Users/beili/anaconda/envs/tensorflow/lib/python3.5/site-packages/tensorflow/python/client/session.py\u001b[0m in \u001b[0;36m_do_run\u001b[0;34m(self, handle, target_list, fetch_list, feed_dict, options, run_metadata)\u001b[0m\n\u001b[1;32m    963\u001b[0m     \u001b[0;32mif\u001b[0m \u001b[0mhandle\u001b[0m \u001b[0;32mis\u001b[0m \u001b[0;32mNone\u001b[0m\u001b[0;34m:\u001b[0m\u001b[0;34m\u001b[0m\u001b[0m\n\u001b[1;32m    964\u001b[0m       return self._do_call(_run_fn, self._session, feed_dict, fetch_list,\n\u001b[0;32m--> 965\u001b[0;31m                            target_list, options, run_metadata)\n\u001b[0m\u001b[1;32m    966\u001b[0m     \u001b[0;32melse\u001b[0m\u001b[0;34m:\u001b[0m\u001b[0;34m\u001b[0m\u001b[0m\n\u001b[1;32m    967\u001b[0m       return self._do_call(_prun_fn, self._session, handle, feed_dict,\n",
      "\u001b[0;32m/Users/beili/anaconda/envs/tensorflow/lib/python3.5/site-packages/tensorflow/python/client/session.py\u001b[0m in \u001b[0;36m_do_call\u001b[0;34m(self, fn, *args)\u001b[0m\n\u001b[1;32m    970\u001b[0m   \u001b[0;32mdef\u001b[0m \u001b[0m_do_call\u001b[0m\u001b[0;34m(\u001b[0m\u001b[0mself\u001b[0m\u001b[0;34m,\u001b[0m \u001b[0mfn\u001b[0m\u001b[0;34m,\u001b[0m \u001b[0;34m*\u001b[0m\u001b[0margs\u001b[0m\u001b[0;34m)\u001b[0m\u001b[0;34m:\u001b[0m\u001b[0;34m\u001b[0m\u001b[0m\n\u001b[1;32m    971\u001b[0m     \u001b[0;32mtry\u001b[0m\u001b[0;34m:\u001b[0m\u001b[0;34m\u001b[0m\u001b[0m\n\u001b[0;32m--> 972\u001b[0;31m       \u001b[0;32mreturn\u001b[0m \u001b[0mfn\u001b[0m\u001b[0;34m(\u001b[0m\u001b[0;34m*\u001b[0m\u001b[0margs\u001b[0m\u001b[0;34m)\u001b[0m\u001b[0;34m\u001b[0m\u001b[0m\n\u001b[0m\u001b[1;32m    973\u001b[0m     \u001b[0;32mexcept\u001b[0m \u001b[0merrors\u001b[0m\u001b[0;34m.\u001b[0m\u001b[0mOpError\u001b[0m \u001b[0;32mas\u001b[0m \u001b[0me\u001b[0m\u001b[0;34m:\u001b[0m\u001b[0;34m\u001b[0m\u001b[0m\n\u001b[1;32m    974\u001b[0m       \u001b[0mmessage\u001b[0m \u001b[0;34m=\u001b[0m \u001b[0mcompat\u001b[0m\u001b[0;34m.\u001b[0m\u001b[0mas_text\u001b[0m\u001b[0;34m(\u001b[0m\u001b[0me\u001b[0m\u001b[0;34m.\u001b[0m\u001b[0mmessage\u001b[0m\u001b[0;34m)\u001b[0m\u001b[0;34m\u001b[0m\u001b[0m\n",
      "\u001b[0;32m/Users/beili/anaconda/envs/tensorflow/lib/python3.5/site-packages/tensorflow/python/client/session.py\u001b[0m in \u001b[0;36m_run_fn\u001b[0;34m(session, feed_dict, fetch_list, target_list, options, run_metadata)\u001b[0m\n\u001b[1;32m    952\u001b[0m         return tf_session.TF_Run(session, options,\n\u001b[1;32m    953\u001b[0m                                  \u001b[0mfeed_dict\u001b[0m\u001b[0;34m,\u001b[0m \u001b[0mfetch_list\u001b[0m\u001b[0;34m,\u001b[0m \u001b[0mtarget_list\u001b[0m\u001b[0;34m,\u001b[0m\u001b[0;34m\u001b[0m\u001b[0m\n\u001b[0;32m--> 954\u001b[0;31m                                  status, run_metadata)\n\u001b[0m\u001b[1;32m    955\u001b[0m \u001b[0;34m\u001b[0m\u001b[0m\n\u001b[1;32m    956\u001b[0m     \u001b[0;32mdef\u001b[0m \u001b[0m_prun_fn\u001b[0m\u001b[0;34m(\u001b[0m\u001b[0msession\u001b[0m\u001b[0;34m,\u001b[0m \u001b[0mhandle\u001b[0m\u001b[0;34m,\u001b[0m \u001b[0mfeed_dict\u001b[0m\u001b[0;34m,\u001b[0m \u001b[0mfetch_list\u001b[0m\u001b[0;34m)\u001b[0m\u001b[0;34m:\u001b[0m\u001b[0;34m\u001b[0m\u001b[0m\n",
      "\u001b[0;31mKeyboardInterrupt\u001b[0m: "
     ]
    }
   ],
   "source": [
    "run_count = 0\n",
    "run_count = train_model(train_features, train_labels, run_count, 10, 20, save_file)"
   ]
  },
  {
   "cell_type": "code",
   "execution_count": 15,
   "metadata": {
    "collapsed": false,
    "scrolled": false
   },
   "outputs": [],
   "source": [
    "# run_count = train_model(run_count, 100, 20, save_file)"
   ]
  },
  {
   "cell_type": "code",
   "execution_count": 16,
   "metadata": {
    "collapsed": false
   },
   "outputs": [
    {
     "name": "stdout",
     "output_type": "stream",
     "text": [
      "Validation accuracy at 0.9689922332763672\n",
      "Test accuracy at 0.9247822761535645\n",
      "[16  1 38 33 11 38 18 12 25 35 12  7 23  7  4  9 21 20 27 38  4 33  9  3  1\n",
      " 11 13 10  9 11  5 17 34 23  2 17  3 12 16  8  7 30 18 12 24 25  3 10 18  8\n",
      " 25 13 15  9 13 35  5 26  9 16 38 10  4  9 15  9 26  2  5 28 11 25 30 34  5\n",
      " 12  1 10 25 25 21 33 25  7 10 35  3  7 22 13  3  1  2 14 12 32  3 38  9 33\n",
      "  1 10  5 11 33  4 35 25 33  4  1 14 16 10 30  3 27 29  1 17 13  7  1  8  2\n",
      " 10 10 30  1  6 36  3 14 13 11 10 18 40  2 38 41  4  6 18 17 25  2 41 11 21\n",
      "  7 24 11 25 17  3  6  9  7  4 13 16  4 25 18  9 13 14 29 17 13 38 26 25 33\n",
      "  1  3 40 13  2  8  4 36 25 20 25 18  1 10  8 10 29 12 38 31  2  8 38 18 28\n",
      " 17  9  4  1 17  9  2 31 13 15 15 38 25  5 25 13 10  5  4 10  2  4  5  1 14\n",
      " 12 12  5  8 36 25 13 33 18 33 19 12 30  4 18 12 13 20  0 10 40  5  8 12 38\n",
      " 20 14  0 36 34 28 35 13 25 15 35 14 18 25  1 12  5 25  2 18 18 18 34  9 25\n",
      " 18 34 39 31  1  9 35 31 26  1  1 33 30 17 13  1 31 13 35  5  1 33 28 35 26\n",
      " 12  5  2 14  4  3 32  1  7 38 19 11 38 38  1 42  2 40 17  4  8  4  5  6 31\n",
      " 35  9 38  8  2  4 18  3 25 10  6  7 34  4 22 10 29  9  2 38 38 18  7 13 28\n",
      " 17  2 16 14 12 40 35  3 38 10  9 38 13 39  3 11  7 38 19 13 10 18  3  5 26\n",
      "  1 41 13  1 18 19 13 38  4 35 25 34 12 17  9  4 33 28  2  1  5  4 38  4 12\n",
      " 38 36 10  0 38 36  8 25  5  2 25 14  2 26 29 10 10 14  9  2  3  4 19  9 10\n",
      " 13 13 20 38 34 11 13 34 34 12  6 10 10  8  3 22 17  7 30 25  1 31 38 38  8\n",
      "  9 10  2 40  1 38 14  8 39  6 35 25 25 17  2 38  7 13 14  7  8 35  3  1 35\n",
      " 12 35 36 24 13 33  2 35  6  2 10 12 31  9 14 17 26  4  3 10  5 30  9 31 40]\n",
      "[16  1 38 33 11 38 18 12 25 35 12  7 23  8  4  9 11 20 27 38  4 33  9  3  1\n",
      " 11 13 10  9 11  5 17 34 23  2 17  3 12 16  8  7 30 18 12 27 25  3 10 31 29\n",
      "  4 13 15  9 13 35  5 26  9 16 38 10  4  9 15  9 26  2  5 11 11 25 30 34  5\n",
      " 12  1 10 25 25 21 33 25  7 10 35  3  7 22 13  3  1  2 14 12 32  3 38  9 33\n",
      "  1 10  5 11 33  4 35 29 33  4  1 14 16 10 11  3 27 25  1 17 13  7  4  8  2\n",
      " 10 10 23  1  6 36  3 14 13 11 10 18  4  2 38 41  4  6 18 17 25  2 41 11 21\n",
      "  7 18 11 25 17  3  6  9  7  4 13 16  4 27 18  9 13 14 29 17 13 38 26 25 33\n",
      "  1  3 12 13  2  8  4 36 25 20 25 18  1 10  8 10 29 12 38 31  2  8  6 11 28\n",
      " 17  9  4  1 17  9  2 31 13 15 15 38 25  5 25 13 10  5  4 10  2  4  5  1 14\n",
      " 12 12  5  8 36 25 13 33 18 33 19 12 30  4 18 12 13 20  0 10 40  5  8 12 38\n",
      " 20 14  0 36 34 28 35 13 25 15 35 14 18 25  1 12  5 25  2 18 27 18 34  9 25\n",
      " 18 34 39 31  1  3 35 31 26  1  1 33 30 17 13  1 31 13 35  5  1 33 28 35 26\n",
      " 12  5  2 14  4  9 32  1  7  6 19 11 38 38  3 42  2 40 17  4  8  4  5  6 31\n",
      " 35  9 38  8  2  4 18  3 25 10  5  7 34  4 26 10 29  9  2 38 38 18  7 13 28\n",
      " 17  2 16 14 12  5 35  3 38 10  9 38 13 39  3 23  7 38 19 13 10 18  3  5  5\n",
      "  1 41 13  1 27 19 13 36  4 35 25 34 12 17  9  4 33 28  2  1  5  4 38  4 12\n",
      " 38 36 10  0 38 36  8 25  5  2 25 14  2 26 29 10 10 14  9  2  3  4 19  9 10\n",
      " 13 13 20 38 34 11 13 34 34 12  6 10 10  8  3 22 17  7 21 25  1  8 38 38  8\n",
      "  9 10  2 40  1 38 14  8 39  6 35 25 25 17  2 38  7 13 14  7  7 35  3  1 35\n",
      " 40 35 36 24 13 33  2 35  6  2 10 12 31  9 14  5 26  2  3 10  5 11  9 31 35]\n"
     ]
    },
    {
     "ename": "NameError",
     "evalue": "name 'epochs' is not defined",
     "output_type": "error",
     "traceback": [
      "\u001b[0;31m---------------------------------------------------------------------------\u001b[0m",
      "\u001b[0;31mNameError\u001b[0m                                 Traceback (most recent call last)",
      "\u001b[0;32m<ipython-input-16-de9cb3680ed7>\u001b[0m in \u001b[0;36m<module>\u001b[0;34m()\u001b[0m\n\u001b[1;32m     22\u001b[0m     \u001b[0mprint\u001b[0m\u001b[0;34m(\u001b[0m\u001b[0mcls_pred\u001b[0m\u001b[0;34m)\u001b[0m\u001b[0;34m\u001b[0m\u001b[0m\n\u001b[1;32m     23\u001b[0m \u001b[0;34m\u001b[0m\u001b[0m\n\u001b[0;32m---> 24\u001b[0;31m     \u001b[0mrun_count\u001b[0m \u001b[0;34m+=\u001b[0m \u001b[0mepochs\u001b[0m\u001b[0;34m\u001b[0m\u001b[0m\n\u001b[0m\u001b[1;32m     25\u001b[0m     \u001b[0msess\u001b[0m\u001b[0;34m.\u001b[0m\u001b[0mclose\u001b[0m\u001b[0;34m(\u001b[0m\u001b[0;34m)\u001b[0m\u001b[0;34m\u001b[0m\u001b[0m\n",
      "\u001b[0;31mNameError\u001b[0m: name 'epochs' is not defined"
     ]
    }
   ],
   "source": [
    "save_file = 'model_rgb.ckpt'\n",
    "saver = tf.train.Saver()\n",
    "\n",
    "# Launch the graph\n",
    "with tf.Session() as sess:\n",
    "    saver.restore(sess, save_file)\n",
    "\n",
    "    # Check accuracy against Validation data\n",
    "    validation_accuracy = sess.run(accuracy_operation, feed_dict=valid_feed_dict)\n",
    "    print('Validation accuracy at {}'.format(validation_accuracy))\n",
    "\n",
    "    # Check accuracy against Validation data\n",
    "    test_accuracy = sess.run(accuracy_operation, feed_dict=test_feed_dict)\n",
    "    print('Test accuracy at {}'.format(test_accuracy))\n",
    "\n",
    "    exam_size = 500\n",
    "    y_labels = tf.placeholder(tf.float32, shape=[None, n_classes])\n",
    "    y_true_cls = tf.argmax(y_labels, 1)\n",
    "    cls_true, cls_pred = sess.run([y_true_cls, y_pred_cls], feed_dict={features: test_features[0:exam_size], \n",
    "                                                                   y_labels: test_labels[0:exam_size]})\n",
    "    print(cls_true)\n",
    "    print(cls_pred)\n",
    "\n",
    "    run_count += epochs\n",
    "    sess.close()"
   ]
  },
  {
   "cell_type": "markdown",
   "metadata": {},
   "source": [
    "### Question 4\n",
    "\n",
    "_How did you train your model? (Type of optimizer, batch size, epochs, hyperparameters, etc.)_\n"
   ]
  },
  {
   "cell_type": "markdown",
   "metadata": {},
   "source": [
    "**Answer:**"
   ]
  },
  {
   "cell_type": "markdown",
   "metadata": {},
   "source": [
    "### Question 5\n",
    "\n",
    "\n",
    "_What approach did you take in coming up with a solution to this problem?_"
   ]
  },
  {
   "cell_type": "markdown",
   "metadata": {},
   "source": [
    "**Answer:**"
   ]
  },
  {
   "cell_type": "markdown",
   "metadata": {},
   "source": [
    "---\n",
    "\n",
    "## Step 3: Test a Model on New Images\n",
    "\n",
    "Take several pictures of traffic signs that you find on the web or around you (at least five), and run them through your classifier on your computer to produce example results. The classifier might not recognize some local signs but it could prove interesting nonetheless.\n",
    "\n",
    "You may find `signnames.csv` useful as it contains mappings from the class id (integer) to the actual sign name."
   ]
  },
  {
   "cell_type": "markdown",
   "metadata": {},
   "source": [
    "### Implementation\n",
    "\n",
    "Use the code cell (or multiple code cells, if necessary) to implement the first step of your project. Once you have completed your implementation and are satisfied with the results, be sure to thoroughly answer the questions that follow."
   ]
  },
  {
   "cell_type": "code",
   "execution_count": 3,
   "metadata": {
    "collapsed": true
   },
   "outputs": [],
   "source": [
    "### Load the images and plot them here.\n",
    "### Feel free to use as many code cells as needed."
   ]
  },
  {
   "cell_type": "markdown",
   "metadata": {},
   "source": [
    "### Question 6\n",
    "\n",
    "_Choose five candidate images of traffic signs and provide them in the report. Are there any particular qualities of the image(s) that might make classification difficult? It would be helpful to plot the images in the notebook._\n",
    "\n"
   ]
  },
  {
   "cell_type": "markdown",
   "metadata": {},
   "source": [
    "**Answer:**"
   ]
  },
  {
   "cell_type": "code",
   "execution_count": 4,
   "metadata": {
    "collapsed": true
   },
   "outputs": [],
   "source": [
    "### Run the predictions here.\n",
    "### Feel free to use as many code cells as needed."
   ]
  },
  {
   "cell_type": "markdown",
   "metadata": {},
   "source": [
    "### Question 7\n",
    "\n",
    "_Is your model able to perform equally well on captured pictures or a live camera stream when compared to testing on the dataset?_\n"
   ]
  },
  {
   "cell_type": "markdown",
   "metadata": {},
   "source": [
    "**Answer:**"
   ]
  },
  {
   "cell_type": "code",
   "execution_count": null,
   "metadata": {
    "collapsed": true
   },
   "outputs": [],
   "source": [
    "### Visualize the softmax probabilities here.\n",
    "### Feel free to use as many code cells as needed."
   ]
  },
  {
   "cell_type": "markdown",
   "metadata": {},
   "source": [
    "### Question 8\n",
    "\n",
    "*Use the model's softmax probabilities to visualize the **certainty** of its predictions, [`tf.nn.top_k`](https://www.tensorflow.org/versions/r0.11/api_docs/python/nn.html#top_k) could prove helpful here. Which predictions is the model certain of? Uncertain? If the model was incorrect in its initial prediction, does the correct prediction appear in the top k? (k should be 5 at most)*\n"
   ]
  },
  {
   "cell_type": "markdown",
   "metadata": {},
   "source": [
    "**Answer:**"
   ]
  },
  {
   "cell_type": "markdown",
   "metadata": {},
   "source": [
    "### Question 9\n",
    "_If necessary, provide documentation for how an interface was built for your model to load and classify newly-acquired images._\n"
   ]
  },
  {
   "cell_type": "markdown",
   "metadata": {},
   "source": [
    "**Answer:**"
   ]
  },
  {
   "cell_type": "markdown",
   "metadata": {},
   "source": [
    "> **Note**: Once you have completed all of the code implementations and successfully answered each question above, you may finalize your work by exporting the iPython Notebook as an HTML document. You can do this by using the menu above and navigating to  \\n\",\n",
    "    \"**File -> Download as -> HTML (.html)**. Include the finished document along with this notebook as your submission."
   ]
  },
  {
   "cell_type": "code",
   "execution_count": null,
   "metadata": {
    "collapsed": true
   },
   "outputs": [],
   "source": []
  }
 ],
 "metadata": {
  "anaconda-cloud": {},
  "kernelspec": {
   "display_name": "Python [conda env:tensorflow]",
   "language": "python",
   "name": "conda-env-tensorflow-py"
  },
  "language_info": {
   "codemirror_mode": {
    "name": "ipython",
    "version": 3
   },
   "file_extension": ".py",
   "mimetype": "text/x-python",
   "name": "python",
   "nbconvert_exporter": "python",
   "pygments_lexer": "ipython3",
   "version": "3.5.2"
  }
 },
 "nbformat": 4,
 "nbformat_minor": 1
}
